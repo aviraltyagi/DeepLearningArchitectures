{
  "nbformat": 4,
  "nbformat_minor": 0,
  "metadata": {
    "colab": {
      "name": "VGG16.ipynb",
      "provenance": [],
      "collapsed_sections": [],
      "authorship_tag": "ABX9TyOuMPksVjP20RU7TVNjUHCe",
      "include_colab_link": true
    },
    "kernelspec": {
      "name": "python3",
      "display_name": "Python 3"
    }
  },
  "cells": [
    {
      "cell_type": "markdown",
      "metadata": {
        "id": "view-in-github",
        "colab_type": "text"
      },
      "source": [
        "<a href=\"https://colab.research.google.com/github/aviraltyagi/DeepLearningArchitectures/blob/main/VGG16.ipynb\" target=\"_parent\"><img src=\"https://colab.research.google.com/assets/colab-badge.svg\" alt=\"Open In Colab\"/></a>"
      ]
    },
    {
      "cell_type": "code",
      "metadata": {
        "id": "YMlNIQih_kbJ"
      },
      "source": [
        "import tensorflow as tf\r\n",
        "from tensorflow.keras import Model\r\n",
        "from tensorflow.keras.layers import Activation, BatchNormalization, Conv2D, Dense, Dropout, Flatten, Input, MaxPool2D, Layer\r\n",
        "import typing"
      ],
      "execution_count": null,
      "outputs": []
    },
    {
      "cell_type": "code",
      "metadata": {
        "id": "BcCkZj2-_uyo"
      },
      "source": [
        "class CustomLayer(Layer):\r\n",
        "  def __init__(self, filter, ranges: int):\r\n",
        "    super(CustomLayer, self).__init__()\r\n",
        "    self.Conv = Conv2D(filters= filter, kernel_size= (3,3), padding= 'same', activation= 'relu')\r\n",
        "    self.Pool = MaxPool2D(strides= (2,2))\r\n",
        "    self.r = range(ranges)\r\n",
        "  \r\n",
        "  def call(self, input, isPool = True, training = False):\r\n",
        "    if isPool:\r\n",
        "      input = self.Pool(input)\r\n",
        "    for i in self.r:\r\n",
        "      x = self.Conv(input, training = training)\r\n",
        "    return x"
      ],
      "execution_count": null,
      "outputs": []
    },
    {
      "cell_type": "code",
      "metadata": {
        "id": "RJPVeugyB4qm"
      },
      "source": [
        "class CustomVGG16(Model):\r\n",
        "  def VGGNet(input_shape: typing.Tuple[int], classes: int) -> Model:\r\n",
        "    x_input = Input(shape= input_shape)\r\n",
        "\r\n",
        "    # Layer 1\r\n",
        "    x = CustomLayer(filter=64, ranges = 2)(x_input, isPool= False, training = True)\r\n",
        "\r\n",
        "    # Layer 2\r\n",
        "    x = CustomLayer(filter=128, ranges = 2)(x, training = True)\r\n",
        "\r\n",
        "    # Layer 3\r\n",
        "    x = CustomLayer(filter=256, ranges = 3)(x, training = True)\r\n",
        "\r\n",
        "    # Layer 4\r\n",
        "    x = CustomLayer(filter=512, ranges = 3)(x, training = True)\r\n",
        "\r\n",
        "    # Layer 5\r\n",
        "    x = CustomLayer(filter=512, ranges = 2)(x, training = True)\r\n",
        "\r\n",
        "    x = MaxPool2D(strides= (2,2))(x)\r\n",
        "\r\n",
        "    x = Flatten()(x)\r\n",
        "\r\n",
        "    x = Dense(units= 4096, activation= 'relu')(x)\r\n",
        "    x = Dense(units= 4096, activation= 'relu')(x)\r\n",
        "\r\n",
        "    output = Dense(units= 1000, activation= 'softmax')(x)\r\n",
        "\r\n",
        "    model = Model(inputs = x_input, outputs= output)\r\n",
        "\r\n",
        "    return model"
      ],
      "execution_count": null,
      "outputs": []
    },
    {
      "cell_type": "code",
      "metadata": {
        "colab": {
          "base_uri": "https://localhost:8080/"
        },
        "id": "r6KLMlP5IuBh",
        "outputId": "42f1af42-e0e6-41a2-85ce-a5a10d0f8543"
      },
      "source": [
        "model = CustomVGG16.VGGNet(input_shape= (224, 224, 3), classes= 10)\r\n",
        "model.summary()"
      ],
      "execution_count": null,
      "outputs": [
        {
          "output_type": "stream",
          "text": [
            "Model: \"model\"\n",
            "_________________________________________________________________\n",
            "Layer (type)                 Output Shape              Param #   \n",
            "=================================================================\n",
            "input_1 (InputLayer)         [(None, 224, 224, 3)]     0         \n",
            "_________________________________________________________________\n",
            "custom_layer (CustomLayer)   (None, 224, 224, 64)      1792      \n",
            "_________________________________________________________________\n",
            "custom_layer_1 (CustomLayer) (None, 112, 112, 128)     73856     \n",
            "_________________________________________________________________\n",
            "custom_layer_2 (CustomLayer) (None, 56, 56, 256)       295168    \n",
            "_________________________________________________________________\n",
            "custom_layer_3 (CustomLayer) (None, 28, 28, 512)       1180160   \n",
            "_________________________________________________________________\n",
            "custom_layer_4 (CustomLayer) (None, 14, 14, 512)       2359808   \n",
            "_________________________________________________________________\n",
            "max_pooling2d_5 (MaxPooling2 (None, 7, 7, 512)         0         \n",
            "_________________________________________________________________\n",
            "flatten (Flatten)            (None, 25088)             0         \n",
            "_________________________________________________________________\n",
            "dense (Dense)                (None, 4096)              102764544 \n",
            "_________________________________________________________________\n",
            "dense_1 (Dense)              (None, 4096)              16781312  \n",
            "_________________________________________________________________\n",
            "dense_2 (Dense)              (None, 1000)              4097000   \n",
            "=================================================================\n",
            "Total params: 127,553,640\n",
            "Trainable params: 127,553,640\n",
            "Non-trainable params: 0\n",
            "_________________________________________________________________\n"
          ],
          "name": "stdout"
        }
      ]
    }
  ]
}