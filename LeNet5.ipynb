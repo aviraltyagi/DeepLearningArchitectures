{
  "nbformat": 4,
  "nbformat_minor": 0,
  "metadata": {
    "colab": {
      "name": "LeNet5.ipynb",
      "provenance": [],
      "collapsed_sections": [],
      "authorship_tag": "ABX9TyNJFKid5r5y77IoF3+WD1PF",
      "include_colab_link": true
    },
    "kernelspec": {
      "name": "python3",
      "display_name": "Python 3"
    }
  },
  "cells": [
    {
      "cell_type": "markdown",
      "metadata": {
        "id": "view-in-github",
        "colab_type": "text"
      },
      "source": [
        "<a href=\"https://colab.research.google.com/github/aviraltyagi/DeepLearningArchitectures/blob/main/LeNet5.ipynb\" target=\"_parent\"><img src=\"https://colab.research.google.com/assets/colab-badge.svg\" alt=\"Open In Colab\"/></a>"
      ]
    },
    {
      "cell_type": "code",
      "metadata": {
        "id": "tuiGrCa2YLvE"
      },
      "source": [
        "import tensorflow as tf\r\n",
        "from tensorflow.keras import Model\r\n",
        "from tensorflow.keras.layers import AveragePooling2D, Conv2D, Dense, Flatten, Input, Layer\r\n",
        "import typing"
      ],
      "execution_count": null,
      "outputs": []
    },
    {
      "cell_type": "code",
      "metadata": {
        "id": "UO0t4l6pbnhb"
      },
      "source": [
        "class CustomConvLayer(Layer):\r\n",
        "  def __init__(self, filter, kernalSize, activation, poolSize = (1,1), strides = (1,1), padding = 'valid'):\r\n",
        "    super(CustomConvLayer, self).__init__()\r\n",
        "    self.Conv = Conv2D(filters= filter, kernel_size= kernalSize, activation= activation, padding= padding)\r\n",
        "    self.AvgPool = AveragePooling2D(pool_size= poolSize, strides= strides)\r\n",
        "\r\n",
        "  def call(self, inputs, training = False, isPool = True):\r\n",
        "    x = self.Conv(inputs, training = training)\r\n",
        "    if(isPool):\r\n",
        "      x = self.AvgPool(x, training = training)\r\n",
        "    return x"
      ],
      "execution_count": null,
      "outputs": []
    },
    {
      "cell_type": "code",
      "metadata": {
        "id": "TakJxqhjdk-7"
      },
      "source": [
        "class CustomLeNet():\r\n",
        "  def LeNet5(input_shape: typing.Tuple[int], classes: int = 1000) -> Model:\r\n",
        "    x_input = Input(shape = input_shape)\r\n",
        "\r\n",
        "    # Layer 1\r\n",
        "    x = CustomConvLayer(filter= 6, kernalSize= (5,5), activation= 'relu', poolSize= (2,2), strides= (2,2), padding= 'same')(x_input, training = True)\r\n",
        "\r\n",
        "    # Layer 2\r\n",
        "    x = CustomConvLayer(filter= 16, kernalSize= (5,5), activation= 'relu', poolSize= (2,2), strides= (2,2))(x_input, training = True)\r\n",
        "\r\n",
        "    # Layer 3\r\n",
        "    x = CustomConvLayer(filter= 120, kernalSize= (5,5), activation= 'relu')(x_input, training = True, isPool = False)\r\n",
        "    \r\n",
        "    # Layer 4\r\n",
        "    x = Flatten()(x)\r\n",
        "    x = Dense(units= 84, activation= 'relu')(x)\r\n",
        "\r\n",
        "    # Layer 5\r\n",
        "    output = Dense(units= classes, activation= 'softmax')(x)\r\n",
        "\r\n",
        "    model = Model(inputs= x_input, outputs= output, name= 'LeNet5')\r\n",
        "\r\n",
        "    return model"
      ],
      "execution_count": null,
      "outputs": []
    },
    {
      "cell_type": "code",
      "metadata": {
        "colab": {
          "base_uri": "https://localhost:8080/"
        },
        "id": "x7PsihDteyck",
        "outputId": "7dea4723-7a78-43f2-f63b-d53bfafbb2f3"
      },
      "source": [
        "model = CustomLeNet.LeNet5(input_shape= (32,32,3), classes= 10)\r\n",
        "model.summary()"
      ],
      "execution_count": null,
      "outputs": [
        {
          "output_type": "stream",
          "text": [
            "Model: \"LeNet5\"\n",
            "_________________________________________________________________\n",
            "Layer (type)                 Output Shape              Param #   \n",
            "=================================================================\n",
            "input_1 (InputLayer)         [(None, 32, 32, 3)]       0         \n",
            "_________________________________________________________________\n",
            "custom_conv_layer_2 (CustomC (None, 28, 28, 120)       9120      \n",
            "_________________________________________________________________\n",
            "flatten (Flatten)            (None, 94080)             0         \n",
            "_________________________________________________________________\n",
            "dense (Dense)                (None, 84)                7902804   \n",
            "_________________________________________________________________\n",
            "dense_1 (Dense)              (None, 10)                850       \n",
            "=================================================================\n",
            "Total params: 7,912,774\n",
            "Trainable params: 7,912,774\n",
            "Non-trainable params: 0\n",
            "_________________________________________________________________\n"
          ],
          "name": "stdout"
        }
      ]
    }
  ]
}