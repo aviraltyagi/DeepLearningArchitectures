{
  "nbformat": 4,
  "nbformat_minor": 0,
  "metadata": {
    "colab": {
      "name": "AlexNet.ipynb",
      "provenance": [],
      "collapsed_sections": [],
      "authorship_tag": "ABX9TyM3g4bP5PrX4xSSBPRHTQLW",
      "include_colab_link": true
    },
    "kernelspec": {
      "name": "python3",
      "display_name": "Python 3"
    }
  },
  "cells": [
    {
      "cell_type": "markdown",
      "metadata": {
        "id": "view-in-github",
        "colab_type": "text"
      },
      "source": [
        "<a href=\"https://colab.research.google.com/github/aviraltyagi/DeepLearningArchitectures/blob/main/AlexNet.ipynb\" target=\"_parent\"><img src=\"https://colab.research.google.com/assets/colab-badge.svg\" alt=\"Open In Colab\"/></a>"
      ]
    },
    {
      "cell_type": "code",
      "metadata": {
        "id": "oCcira2luSHu"
      },
      "source": [
        "import tensorflow as tf\r\n",
        "from tensorflow.keras import Model\r\n",
        "from tensorflow.keras.layers import Conv2D, Dense, Flatten, Input, Layer, Dropout, Lambda, MaxPool2D\r\n",
        "import typing"
      ],
      "execution_count": null,
      "outputs": []
    },
    {
      "cell_type": "code",
      "metadata": {
        "id": "536H1tGJus9y"
      },
      "source": [
        "class CustomConvLayer(Layer):\r\n",
        "  def __init__(self, filter, kernelSize, stride, padding):\r\n",
        "    super(CustomConvLayer, self).__init__()\r\n",
        "    self.Conv = Conv2D(filters= filter, kernel_size= kernelSize, strides= stride, activation= 'relu', padding= padding)\r\n",
        "    self.Pool = MaxPool2D(pool_size= (3,3), strides= 2, padding= 'valid')\r\n",
        "    self.Lambda = Lambda(tf.nn.local_response_normalization)\r\n",
        "\r\n",
        "  def call(self, input, training = False, isPool = True, isLambda = True):\r\n",
        "    x = self.Conv(input, training = training)\r\n",
        "    if(isPool):\r\n",
        "      x = self.Pool(x)\r\n",
        "    if(isLambda):\r\n",
        "      x = self.Lambda(x)\r\n",
        "    \r\n",
        "    return x"
      ],
      "execution_count": null,
      "outputs": []
    },
    {
      "cell_type": "code",
      "metadata": {
        "id": "-A5Ycp83wcpe"
      },
      "source": [
        "class CustomAlexNet(Model):\r\n",
        "  def AlexNet(input_shape: typing.Tuple[int], classes: int) -> Model:\r\n",
        "    x_input = Input(shape= input_shape)\r\n",
        "\r\n",
        "    # Layer 1\r\n",
        "    x = CustomConvLayer(filter= 96, kernelSize= (11,11), stride= (4,4), padding= 'valid')(x_input, training = True)\r\n",
        "\r\n",
        "    # Layer 2\r\n",
        "    x = CustomConvLayer(filter= 256, kernelSize= (5,5), stride= (1,1), padding= 'same')(x, training = True)\r\n",
        "\r\n",
        "    # Layer 3\r\n",
        "    x = CustomConvLayer(filter= 384, kernelSize= (3,3), stride= (1,1), padding='same')(x, training = True, isPool = False)\r\n",
        "\r\n",
        "    # Layer 4\r\n",
        "    x = CustomConvLayer(filter= 384, kernelSize= (3,3), stride= (1,1), padding='same')(x, training = True, isPool = False)\r\n",
        "\r\n",
        "    # Layer 5\r\n",
        "    x = CustomConvLayer(filter= 256, kernelSize= (3,3), stride= (1,1), padding='same')(x, training = True)\r\n",
        "\r\n",
        "    # Layer 6\r\n",
        "    x = Flatten()(x)\r\n",
        "    x = Dense(units= 4096, activation= 'relu')(x)\r\n",
        "    #x = Dropout(0.5)(x)\r\n",
        "\r\n",
        "    # Layer 7\r\n",
        "    x = Dense(units= 4096, activation= 'relu')(x)\r\n",
        "    #x = Dropout(0.5)(x)\r\n",
        "\r\n",
        "    # Layer 8\r\n",
        "    output = Dense(units = classes, activation= 'softmax')(x)\r\n",
        "\r\n",
        "    model = Model(inputs = x_input, outputs= output)\r\n",
        "\r\n",
        "    return model"
      ],
      "execution_count": null,
      "outputs": []
    },
    {
      "cell_type": "code",
      "metadata": {
        "colab": {
          "base_uri": "https://localhost:8080/"
        },
        "id": "hD6mvNH9y4yv",
        "outputId": "a17fa501-8216-403a-af95-98221d787e54"
      },
      "source": [
        "model = CustomAlexNet.AlexNet(input_shape= (227, 227, 3), classes= 10)\r\n",
        "model.summary()"
      ],
      "execution_count": null,
      "outputs": [
        {
          "output_type": "stream",
          "text": [
            "Model: \"model_1\"\n",
            "_________________________________________________________________\n",
            "Layer (type)                 Output Shape              Param #   \n",
            "=================================================================\n",
            "input_2 (InputLayer)         [(None, 227, 227, 3)]     0         \n",
            "_________________________________________________________________\n",
            "custom_conv_layer_5 (CustomC (None, 27, 27, 96)        34944     \n",
            "_________________________________________________________________\n",
            "custom_conv_layer_6 (CustomC (None, 13, 13, 256)       614656    \n",
            "_________________________________________________________________\n",
            "custom_conv_layer_7 (CustomC (None, 13, 13, 384)       885120    \n",
            "_________________________________________________________________\n",
            "custom_conv_layer_8 (CustomC (None, 13, 13, 384)       1327488   \n",
            "_________________________________________________________________\n",
            "custom_conv_layer_9 (CustomC (None, 6, 6, 256)         884992    \n",
            "_________________________________________________________________\n",
            "flatten_1 (Flatten)          (None, 9216)              0         \n",
            "_________________________________________________________________\n",
            "dense_3 (Dense)              (None, 4096)              37752832  \n",
            "_________________________________________________________________\n",
            "dense_4 (Dense)              (None, 4096)              16781312  \n",
            "_________________________________________________________________\n",
            "dense_5 (Dense)              (None, 10)                40970     \n",
            "=================================================================\n",
            "Total params: 58,322,314\n",
            "Trainable params: 58,322,314\n",
            "Non-trainable params: 0\n",
            "_________________________________________________________________\n"
          ],
          "name": "stdout"
        }
      ]
    }
  ]
}